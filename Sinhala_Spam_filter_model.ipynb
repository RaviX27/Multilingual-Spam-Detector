{
  "nbformat": 4,
  "nbformat_minor": 0,
  "metadata": {
    "colab": {
      "provenance": []
    },
    "kernelspec": {
      "name": "python3",
      "display_name": "Python 3"
    },
    "language_info": {
      "name": "python"
    }
  },
  "cells": [
    {
      "cell_type": "code",
      "execution_count": 39,
      "metadata": {
        "id": "kMIbYMc-YA8R"
      },
      "outputs": [],
      "source": [
        "# Import necessary libraries for text preprocessing\n",
        "import pandas as pd"
      ]
    },
    {
      "cell_type": "code",
      "source": [
        "df = pd.read_excel(\"sinhala spam.xlsx\")\n",
        "df"
      ],
      "metadata": {
        "colab": {
          "base_uri": "https://localhost:8080/",
          "height": 424
        },
        "id": "M55TBlFebXs5",
        "outputId": "185e5378-f7ff-409d-c537-5d7a34733163"
      },
      "execution_count": 40,
      "outputs": [
        {
          "output_type": "execute_result",
          "data": {
            "text/plain": [
              "   Lable                                            Message\n",
              "0    Ham                                 ළඟදී නිවාඩු නැද්ද?\n",
              "1    Ham                       හෙට town එකට එන්න බැරි වෙයි.\n",
              "2    Ham  හරි බං.. ඔක්කෝටම ද උත්තර ඕනි නැතිනං අමාරු ප්‍ර...\n",
              "3   spam  සො ෆා  එකක් ගන්න, instant pay hurry->> tiny.on...\n",
              "4    Ham  සුවිශේෂී Asia Cup පැකේජය සමඟින්\\n ශ්‍රී ලංකාව ...\n",
              "..   ...                                                ...\n",
              "60  spam  ONMAXDT වෙතින් රුපියල් 50000ක් දක්වා දිනුම් ලබ...\n",
              "61   Ham  Freedom Plus 888 රීලෝඩ් එක සඳහා 50%ක දැවැන්ත ව...\n",
              "62  spam  france යන්න ලියාපදිංචිය. https://shorturl.at/e...\n",
              "63   Ham  2023 ඡන්ද ලේඛනයේ ඔබේ නම තිබේදැයි, ග්‍රාම නිලධා...\n",
              "64  spam   මම කළමනාකරු.ඔබ අර්ධකාලීන රැකියා පිරිනැමීම සඳහ...\n",
              "\n",
              "[65 rows x 2 columns]"
            ],
            "text/html": [
              "\n",
              "  <div id=\"df-9af393e1-33b4-43a8-b003-b5c572d32b16\" class=\"colab-df-container\">\n",
              "    <div>\n",
              "<style scoped>\n",
              "    .dataframe tbody tr th:only-of-type {\n",
              "        vertical-align: middle;\n",
              "    }\n",
              "\n",
              "    .dataframe tbody tr th {\n",
              "        vertical-align: top;\n",
              "    }\n",
              "\n",
              "    .dataframe thead th {\n",
              "        text-align: right;\n",
              "    }\n",
              "</style>\n",
              "<table border=\"1\" class=\"dataframe\">\n",
              "  <thead>\n",
              "    <tr style=\"text-align: right;\">\n",
              "      <th></th>\n",
              "      <th>Lable</th>\n",
              "      <th>Message</th>\n",
              "    </tr>\n",
              "  </thead>\n",
              "  <tbody>\n",
              "    <tr>\n",
              "      <th>0</th>\n",
              "      <td>Ham</td>\n",
              "      <td>ළඟදී නිවාඩු නැද්ද?</td>\n",
              "    </tr>\n",
              "    <tr>\n",
              "      <th>1</th>\n",
              "      <td>Ham</td>\n",
              "      <td>හෙට town එකට එන්න බැරි වෙයි.</td>\n",
              "    </tr>\n",
              "    <tr>\n",
              "      <th>2</th>\n",
              "      <td>Ham</td>\n",
              "      <td>හරි බං.. ඔක්කෝටම ද උත්තර ඕනි නැතිනං අමාරු ප්‍ර...</td>\n",
              "    </tr>\n",
              "    <tr>\n",
              "      <th>3</th>\n",
              "      <td>spam</td>\n",
              "      <td>සො ෆා  එකක් ගන්න, instant pay hurry-&gt;&gt; tiny.on...</td>\n",
              "    </tr>\n",
              "    <tr>\n",
              "      <th>4</th>\n",
              "      <td>Ham</td>\n",
              "      <td>සුවිශේෂී Asia Cup පැකේජය සමඟින්\\n ශ්‍රී ලංකාව ...</td>\n",
              "    </tr>\n",
              "    <tr>\n",
              "      <th>...</th>\n",
              "      <td>...</td>\n",
              "      <td>...</td>\n",
              "    </tr>\n",
              "    <tr>\n",
              "      <th>60</th>\n",
              "      <td>spam</td>\n",
              "      <td>ONMAXDT වෙතින් රුපියල් 50000ක් දක්වා දිනුම් ලබ...</td>\n",
              "    </tr>\n",
              "    <tr>\n",
              "      <th>61</th>\n",
              "      <td>Ham</td>\n",
              "      <td>Freedom Plus 888 රීලෝඩ් එක සඳහා 50%ක දැවැන්ත ව...</td>\n",
              "    </tr>\n",
              "    <tr>\n",
              "      <th>62</th>\n",
              "      <td>spam</td>\n",
              "      <td>france යන්න ලියාපදිංචිය. https://shorturl.at/e...</td>\n",
              "    </tr>\n",
              "    <tr>\n",
              "      <th>63</th>\n",
              "      <td>Ham</td>\n",
              "      <td>2023 ඡන්ද ලේඛනයේ ඔබේ නම තිබේදැයි, ග්‍රාම නිලධා...</td>\n",
              "    </tr>\n",
              "    <tr>\n",
              "      <th>64</th>\n",
              "      <td>spam</td>\n",
              "      <td>මම කළමනාකරු.ඔබ අර්ධකාලීන රැකියා පිරිනැමීම සඳහ...</td>\n",
              "    </tr>\n",
              "  </tbody>\n",
              "</table>\n",
              "<p>65 rows × 2 columns</p>\n",
              "</div>\n",
              "    <div class=\"colab-df-buttons\">\n",
              "\n",
              "  <div class=\"colab-df-container\">\n",
              "    <button class=\"colab-df-convert\" onclick=\"convertToInteractive('df-9af393e1-33b4-43a8-b003-b5c572d32b16')\"\n",
              "            title=\"Convert this dataframe to an interactive table.\"\n",
              "            style=\"display:none;\">\n",
              "\n",
              "  <svg xmlns=\"http://www.w3.org/2000/svg\" height=\"24px\" viewBox=\"0 -960 960 960\">\n",
              "    <path d=\"M120-120v-720h720v720H120Zm60-500h600v-160H180v160Zm220 220h160v-160H400v160Zm0 220h160v-160H400v160ZM180-400h160v-160H180v160Zm440 0h160v-160H620v160ZM180-180h160v-160H180v160Zm440 0h160v-160H620v160Z\"/>\n",
              "  </svg>\n",
              "    </button>\n",
              "\n",
              "  <style>\n",
              "    .colab-df-container {\n",
              "      display:flex;\n",
              "      gap: 12px;\n",
              "    }\n",
              "\n",
              "    .colab-df-convert {\n",
              "      background-color: #E8F0FE;\n",
              "      border: none;\n",
              "      border-radius: 50%;\n",
              "      cursor: pointer;\n",
              "      display: none;\n",
              "      fill: #1967D2;\n",
              "      height: 32px;\n",
              "      padding: 0 0 0 0;\n",
              "      width: 32px;\n",
              "    }\n",
              "\n",
              "    .colab-df-convert:hover {\n",
              "      background-color: #E2EBFA;\n",
              "      box-shadow: 0px 1px 2px rgba(60, 64, 67, 0.3), 0px 1px 3px 1px rgba(60, 64, 67, 0.15);\n",
              "      fill: #174EA6;\n",
              "    }\n",
              "\n",
              "    .colab-df-buttons div {\n",
              "      margin-bottom: 4px;\n",
              "    }\n",
              "\n",
              "    [theme=dark] .colab-df-convert {\n",
              "      background-color: #3B4455;\n",
              "      fill: #D2E3FC;\n",
              "    }\n",
              "\n",
              "    [theme=dark] .colab-df-convert:hover {\n",
              "      background-color: #434B5C;\n",
              "      box-shadow: 0px 1px 3px 1px rgba(0, 0, 0, 0.15);\n",
              "      filter: drop-shadow(0px 1px 2px rgba(0, 0, 0, 0.3));\n",
              "      fill: #FFFFFF;\n",
              "    }\n",
              "  </style>\n",
              "\n",
              "    <script>\n",
              "      const buttonEl =\n",
              "        document.querySelector('#df-9af393e1-33b4-43a8-b003-b5c572d32b16 button.colab-df-convert');\n",
              "      buttonEl.style.display =\n",
              "        google.colab.kernel.accessAllowed ? 'block' : 'none';\n",
              "\n",
              "      async function convertToInteractive(key) {\n",
              "        const element = document.querySelector('#df-9af393e1-33b4-43a8-b003-b5c572d32b16');\n",
              "        const dataTable =\n",
              "          await google.colab.kernel.invokeFunction('convertToInteractive',\n",
              "                                                    [key], {});\n",
              "        if (!dataTable) return;\n",
              "\n",
              "        const docLinkHtml = 'Like what you see? Visit the ' +\n",
              "          '<a target=\"_blank\" href=https://colab.research.google.com/notebooks/data_table.ipynb>data table notebook</a>'\n",
              "          + ' to learn more about interactive tables.';\n",
              "        element.innerHTML = '';\n",
              "        dataTable['output_type'] = 'display_data';\n",
              "        await google.colab.output.renderOutput(dataTable, element);\n",
              "        const docLink = document.createElement('div');\n",
              "        docLink.innerHTML = docLinkHtml;\n",
              "        element.appendChild(docLink);\n",
              "      }\n",
              "    </script>\n",
              "  </div>\n",
              "\n",
              "\n",
              "<div id=\"df-b54ce5ec-7026-4e40-b5dc-cfaff7d0b92c\">\n",
              "  <button class=\"colab-df-quickchart\" onclick=\"quickchart('df-b54ce5ec-7026-4e40-b5dc-cfaff7d0b92c')\"\n",
              "            title=\"Suggest charts.\"\n",
              "            style=\"display:none;\">\n",
              "\n",
              "<svg xmlns=\"http://www.w3.org/2000/svg\" height=\"24px\"viewBox=\"0 0 24 24\"\n",
              "     width=\"24px\">\n",
              "    <g>\n",
              "        <path d=\"M19 3H5c-1.1 0-2 .9-2 2v14c0 1.1.9 2 2 2h14c1.1 0 2-.9 2-2V5c0-1.1-.9-2-2-2zM9 17H7v-7h2v7zm4 0h-2V7h2v10zm4 0h-2v-4h2v4z\"/>\n",
              "    </g>\n",
              "</svg>\n",
              "  </button>\n",
              "\n",
              "<style>\n",
              "  .colab-df-quickchart {\n",
              "      --bg-color: #E8F0FE;\n",
              "      --fill-color: #1967D2;\n",
              "      --hover-bg-color: #E2EBFA;\n",
              "      --hover-fill-color: #174EA6;\n",
              "      --disabled-fill-color: #AAA;\n",
              "      --disabled-bg-color: #DDD;\n",
              "  }\n",
              "\n",
              "  [theme=dark] .colab-df-quickchart {\n",
              "      --bg-color: #3B4455;\n",
              "      --fill-color: #D2E3FC;\n",
              "      --hover-bg-color: #434B5C;\n",
              "      --hover-fill-color: #FFFFFF;\n",
              "      --disabled-bg-color: #3B4455;\n",
              "      --disabled-fill-color: #666;\n",
              "  }\n",
              "\n",
              "  .colab-df-quickchart {\n",
              "    background-color: var(--bg-color);\n",
              "    border: none;\n",
              "    border-radius: 50%;\n",
              "    cursor: pointer;\n",
              "    display: none;\n",
              "    fill: var(--fill-color);\n",
              "    height: 32px;\n",
              "    padding: 0;\n",
              "    width: 32px;\n",
              "  }\n",
              "\n",
              "  .colab-df-quickchart:hover {\n",
              "    background-color: var(--hover-bg-color);\n",
              "    box-shadow: 0 1px 2px rgba(60, 64, 67, 0.3), 0 1px 3px 1px rgba(60, 64, 67, 0.15);\n",
              "    fill: var(--button-hover-fill-color);\n",
              "  }\n",
              "\n",
              "  .colab-df-quickchart-complete:disabled,\n",
              "  .colab-df-quickchart-complete:disabled:hover {\n",
              "    background-color: var(--disabled-bg-color);\n",
              "    fill: var(--disabled-fill-color);\n",
              "    box-shadow: none;\n",
              "  }\n",
              "\n",
              "  .colab-df-spinner {\n",
              "    border: 2px solid var(--fill-color);\n",
              "    border-color: transparent;\n",
              "    border-bottom-color: var(--fill-color);\n",
              "    animation:\n",
              "      spin 1s steps(1) infinite;\n",
              "  }\n",
              "\n",
              "  @keyframes spin {\n",
              "    0% {\n",
              "      border-color: transparent;\n",
              "      border-bottom-color: var(--fill-color);\n",
              "      border-left-color: var(--fill-color);\n",
              "    }\n",
              "    20% {\n",
              "      border-color: transparent;\n",
              "      border-left-color: var(--fill-color);\n",
              "      border-top-color: var(--fill-color);\n",
              "    }\n",
              "    30% {\n",
              "      border-color: transparent;\n",
              "      border-left-color: var(--fill-color);\n",
              "      border-top-color: var(--fill-color);\n",
              "      border-right-color: var(--fill-color);\n",
              "    }\n",
              "    40% {\n",
              "      border-color: transparent;\n",
              "      border-right-color: var(--fill-color);\n",
              "      border-top-color: var(--fill-color);\n",
              "    }\n",
              "    60% {\n",
              "      border-color: transparent;\n",
              "      border-right-color: var(--fill-color);\n",
              "    }\n",
              "    80% {\n",
              "      border-color: transparent;\n",
              "      border-right-color: var(--fill-color);\n",
              "      border-bottom-color: var(--fill-color);\n",
              "    }\n",
              "    90% {\n",
              "      border-color: transparent;\n",
              "      border-bottom-color: var(--fill-color);\n",
              "    }\n",
              "  }\n",
              "</style>\n",
              "\n",
              "  <script>\n",
              "    async function quickchart(key) {\n",
              "      const quickchartButtonEl =\n",
              "        document.querySelector('#' + key + ' button');\n",
              "      quickchartButtonEl.disabled = true;  // To prevent multiple clicks.\n",
              "      quickchartButtonEl.classList.add('colab-df-spinner');\n",
              "      try {\n",
              "        const charts = await google.colab.kernel.invokeFunction(\n",
              "            'suggestCharts', [key], {});\n",
              "      } catch (error) {\n",
              "        console.error('Error during call to suggestCharts:', error);\n",
              "      }\n",
              "      quickchartButtonEl.classList.remove('colab-df-spinner');\n",
              "      quickchartButtonEl.classList.add('colab-df-quickchart-complete');\n",
              "    }\n",
              "    (() => {\n",
              "      let quickchartButtonEl =\n",
              "        document.querySelector('#df-b54ce5ec-7026-4e40-b5dc-cfaff7d0b92c button');\n",
              "      quickchartButtonEl.style.display =\n",
              "        google.colab.kernel.accessAllowed ? 'block' : 'none';\n",
              "    })();\n",
              "  </script>\n",
              "</div>\n",
              "    </div>\n",
              "  </div>\n"
            ]
          },
          "metadata": {},
          "execution_count": 40
        }
      ]
    },
    {
      "cell_type": "code",
      "source": [
        "df.shape"
      ],
      "metadata": {
        "colab": {
          "base_uri": "https://localhost:8080/"
        },
        "id": "NZi1mVdObtpu",
        "outputId": "47ea7980-9797-40be-9231-594ea23c9ea7"
      },
      "execution_count": 41,
      "outputs": [
        {
          "output_type": "execute_result",
          "data": {
            "text/plain": [
              "(65, 2)"
            ]
          },
          "metadata": {},
          "execution_count": 41
        }
      ]
    },
    {
      "cell_type": "code",
      "source": [
        "df=df.drop_duplicates()"
      ],
      "metadata": {
        "id": "X14BPNaBb9FG"
      },
      "execution_count": 42,
      "outputs": []
    },
    {
      "cell_type": "code",
      "source": [
        "df.shape"
      ],
      "metadata": {
        "colab": {
          "base_uri": "https://localhost:8080/"
        },
        "id": "YkwokiF3cD4K",
        "outputId": "9eb90d3c-2ca4-4748-e1b8-f17634397628"
      },
      "execution_count": 43,
      "outputs": [
        {
          "output_type": "execute_result",
          "data": {
            "text/plain": [
              "(65, 2)"
            ]
          },
          "metadata": {},
          "execution_count": 43
        }
      ]
    },
    {
      "cell_type": "code",
      "source": [
        "df.info()"
      ],
      "metadata": {
        "colab": {
          "base_uri": "https://localhost:8080/"
        },
        "id": "sK0QpZHTcHED",
        "outputId": "9f0cb2c4-52f5-4edc-d63c-7b1b18029453"
      },
      "execution_count": 44,
      "outputs": [
        {
          "output_type": "stream",
          "name": "stdout",
          "text": [
            "<class 'pandas.core.frame.DataFrame'>\n",
            "Int64Index: 65 entries, 0 to 64\n",
            "Data columns (total 2 columns):\n",
            " #   Column   Non-Null Count  Dtype \n",
            "---  ------   --------------  ----- \n",
            " 0   Lable    65 non-null     object\n",
            " 1   Message  65 non-null     object\n",
            "dtypes: object(2)\n",
            "memory usage: 1.5+ KB\n"
          ]
        }
      ]
    },
    {
      "cell_type": "code",
      "source": [
        "df.describe()"
      ],
      "metadata": {
        "colab": {
          "base_uri": "https://localhost:8080/",
          "height": 175
        },
        "id": "d3F-qTcBcLR3",
        "outputId": "e7fe6a30-26f4-490e-e554-cb0dc179c6f6"
      },
      "execution_count": 45,
      "outputs": [
        {
          "output_type": "execute_result",
          "data": {
            "text/plain": [
              "       Lable             Message\n",
              "count     65                  65\n",
              "unique     2                  65\n",
              "top      Ham  ළඟදී නිවාඩු නැද්ද?\n",
              "freq      40                   1"
            ],
            "text/html": [
              "\n",
              "  <div id=\"df-94f3846b-9e78-4304-ae97-522f579b3b4e\" class=\"colab-df-container\">\n",
              "    <div>\n",
              "<style scoped>\n",
              "    .dataframe tbody tr th:only-of-type {\n",
              "        vertical-align: middle;\n",
              "    }\n",
              "\n",
              "    .dataframe tbody tr th {\n",
              "        vertical-align: top;\n",
              "    }\n",
              "\n",
              "    .dataframe thead th {\n",
              "        text-align: right;\n",
              "    }\n",
              "</style>\n",
              "<table border=\"1\" class=\"dataframe\">\n",
              "  <thead>\n",
              "    <tr style=\"text-align: right;\">\n",
              "      <th></th>\n",
              "      <th>Lable</th>\n",
              "      <th>Message</th>\n",
              "    </tr>\n",
              "  </thead>\n",
              "  <tbody>\n",
              "    <tr>\n",
              "      <th>count</th>\n",
              "      <td>65</td>\n",
              "      <td>65</td>\n",
              "    </tr>\n",
              "    <tr>\n",
              "      <th>unique</th>\n",
              "      <td>2</td>\n",
              "      <td>65</td>\n",
              "    </tr>\n",
              "    <tr>\n",
              "      <th>top</th>\n",
              "      <td>Ham</td>\n",
              "      <td>ළඟදී නිවාඩු නැද්ද?</td>\n",
              "    </tr>\n",
              "    <tr>\n",
              "      <th>freq</th>\n",
              "      <td>40</td>\n",
              "      <td>1</td>\n",
              "    </tr>\n",
              "  </tbody>\n",
              "</table>\n",
              "</div>\n",
              "    <div class=\"colab-df-buttons\">\n",
              "\n",
              "  <div class=\"colab-df-container\">\n",
              "    <button class=\"colab-df-convert\" onclick=\"convertToInteractive('df-94f3846b-9e78-4304-ae97-522f579b3b4e')\"\n",
              "            title=\"Convert this dataframe to an interactive table.\"\n",
              "            style=\"display:none;\">\n",
              "\n",
              "  <svg xmlns=\"http://www.w3.org/2000/svg\" height=\"24px\" viewBox=\"0 -960 960 960\">\n",
              "    <path d=\"M120-120v-720h720v720H120Zm60-500h600v-160H180v160Zm220 220h160v-160H400v160Zm0 220h160v-160H400v160ZM180-400h160v-160H180v160Zm440 0h160v-160H620v160ZM180-180h160v-160H180v160Zm440 0h160v-160H620v160Z\"/>\n",
              "  </svg>\n",
              "    </button>\n",
              "\n",
              "  <style>\n",
              "    .colab-df-container {\n",
              "      display:flex;\n",
              "      gap: 12px;\n",
              "    }\n",
              "\n",
              "    .colab-df-convert {\n",
              "      background-color: #E8F0FE;\n",
              "      border: none;\n",
              "      border-radius: 50%;\n",
              "      cursor: pointer;\n",
              "      display: none;\n",
              "      fill: #1967D2;\n",
              "      height: 32px;\n",
              "      padding: 0 0 0 0;\n",
              "      width: 32px;\n",
              "    }\n",
              "\n",
              "    .colab-df-convert:hover {\n",
              "      background-color: #E2EBFA;\n",
              "      box-shadow: 0px 1px 2px rgba(60, 64, 67, 0.3), 0px 1px 3px 1px rgba(60, 64, 67, 0.15);\n",
              "      fill: #174EA6;\n",
              "    }\n",
              "\n",
              "    .colab-df-buttons div {\n",
              "      margin-bottom: 4px;\n",
              "    }\n",
              "\n",
              "    [theme=dark] .colab-df-convert {\n",
              "      background-color: #3B4455;\n",
              "      fill: #D2E3FC;\n",
              "    }\n",
              "\n",
              "    [theme=dark] .colab-df-convert:hover {\n",
              "      background-color: #434B5C;\n",
              "      box-shadow: 0px 1px 3px 1px rgba(0, 0, 0, 0.15);\n",
              "      filter: drop-shadow(0px 1px 2px rgba(0, 0, 0, 0.3));\n",
              "      fill: #FFFFFF;\n",
              "    }\n",
              "  </style>\n",
              "\n",
              "    <script>\n",
              "      const buttonEl =\n",
              "        document.querySelector('#df-94f3846b-9e78-4304-ae97-522f579b3b4e button.colab-df-convert');\n",
              "      buttonEl.style.display =\n",
              "        google.colab.kernel.accessAllowed ? 'block' : 'none';\n",
              "\n",
              "      async function convertToInteractive(key) {\n",
              "        const element = document.querySelector('#df-94f3846b-9e78-4304-ae97-522f579b3b4e');\n",
              "        const dataTable =\n",
              "          await google.colab.kernel.invokeFunction('convertToInteractive',\n",
              "                                                    [key], {});\n",
              "        if (!dataTable) return;\n",
              "\n",
              "        const docLinkHtml = 'Like what you see? Visit the ' +\n",
              "          '<a target=\"_blank\" href=https://colab.research.google.com/notebooks/data_table.ipynb>data table notebook</a>'\n",
              "          + ' to learn more about interactive tables.';\n",
              "        element.innerHTML = '';\n",
              "        dataTable['output_type'] = 'display_data';\n",
              "        await google.colab.output.renderOutput(dataTable, element);\n",
              "        const docLink = document.createElement('div');\n",
              "        docLink.innerHTML = docLinkHtml;\n",
              "        element.appendChild(docLink);\n",
              "      }\n",
              "    </script>\n",
              "  </div>\n",
              "\n",
              "\n",
              "<div id=\"df-f2a8e174-0d38-4ec0-824a-e93ea8a8d59b\">\n",
              "  <button class=\"colab-df-quickchart\" onclick=\"quickchart('df-f2a8e174-0d38-4ec0-824a-e93ea8a8d59b')\"\n",
              "            title=\"Suggest charts.\"\n",
              "            style=\"display:none;\">\n",
              "\n",
              "<svg xmlns=\"http://www.w3.org/2000/svg\" height=\"24px\"viewBox=\"0 0 24 24\"\n",
              "     width=\"24px\">\n",
              "    <g>\n",
              "        <path d=\"M19 3H5c-1.1 0-2 .9-2 2v14c0 1.1.9 2 2 2h14c1.1 0 2-.9 2-2V5c0-1.1-.9-2-2-2zM9 17H7v-7h2v7zm4 0h-2V7h2v10zm4 0h-2v-4h2v4z\"/>\n",
              "    </g>\n",
              "</svg>\n",
              "  </button>\n",
              "\n",
              "<style>\n",
              "  .colab-df-quickchart {\n",
              "      --bg-color: #E8F0FE;\n",
              "      --fill-color: #1967D2;\n",
              "      --hover-bg-color: #E2EBFA;\n",
              "      --hover-fill-color: #174EA6;\n",
              "      --disabled-fill-color: #AAA;\n",
              "      --disabled-bg-color: #DDD;\n",
              "  }\n",
              "\n",
              "  [theme=dark] .colab-df-quickchart {\n",
              "      --bg-color: #3B4455;\n",
              "      --fill-color: #D2E3FC;\n",
              "      --hover-bg-color: #434B5C;\n",
              "      --hover-fill-color: #FFFFFF;\n",
              "      --disabled-bg-color: #3B4455;\n",
              "      --disabled-fill-color: #666;\n",
              "  }\n",
              "\n",
              "  .colab-df-quickchart {\n",
              "    background-color: var(--bg-color);\n",
              "    border: none;\n",
              "    border-radius: 50%;\n",
              "    cursor: pointer;\n",
              "    display: none;\n",
              "    fill: var(--fill-color);\n",
              "    height: 32px;\n",
              "    padding: 0;\n",
              "    width: 32px;\n",
              "  }\n",
              "\n",
              "  .colab-df-quickchart:hover {\n",
              "    background-color: var(--hover-bg-color);\n",
              "    box-shadow: 0 1px 2px rgba(60, 64, 67, 0.3), 0 1px 3px 1px rgba(60, 64, 67, 0.15);\n",
              "    fill: var(--button-hover-fill-color);\n",
              "  }\n",
              "\n",
              "  .colab-df-quickchart-complete:disabled,\n",
              "  .colab-df-quickchart-complete:disabled:hover {\n",
              "    background-color: var(--disabled-bg-color);\n",
              "    fill: var(--disabled-fill-color);\n",
              "    box-shadow: none;\n",
              "  }\n",
              "\n",
              "  .colab-df-spinner {\n",
              "    border: 2px solid var(--fill-color);\n",
              "    border-color: transparent;\n",
              "    border-bottom-color: var(--fill-color);\n",
              "    animation:\n",
              "      spin 1s steps(1) infinite;\n",
              "  }\n",
              "\n",
              "  @keyframes spin {\n",
              "    0% {\n",
              "      border-color: transparent;\n",
              "      border-bottom-color: var(--fill-color);\n",
              "      border-left-color: var(--fill-color);\n",
              "    }\n",
              "    20% {\n",
              "      border-color: transparent;\n",
              "      border-left-color: var(--fill-color);\n",
              "      border-top-color: var(--fill-color);\n",
              "    }\n",
              "    30% {\n",
              "      border-color: transparent;\n",
              "      border-left-color: var(--fill-color);\n",
              "      border-top-color: var(--fill-color);\n",
              "      border-right-color: var(--fill-color);\n",
              "    }\n",
              "    40% {\n",
              "      border-color: transparent;\n",
              "      border-right-color: var(--fill-color);\n",
              "      border-top-color: var(--fill-color);\n",
              "    }\n",
              "    60% {\n",
              "      border-color: transparent;\n",
              "      border-right-color: var(--fill-color);\n",
              "    }\n",
              "    80% {\n",
              "      border-color: transparent;\n",
              "      border-right-color: var(--fill-color);\n",
              "      border-bottom-color: var(--fill-color);\n",
              "    }\n",
              "    90% {\n",
              "      border-color: transparent;\n",
              "      border-bottom-color: var(--fill-color);\n",
              "    }\n",
              "  }\n",
              "</style>\n",
              "\n",
              "  <script>\n",
              "    async function quickchart(key) {\n",
              "      const quickchartButtonEl =\n",
              "        document.querySelector('#' + key + ' button');\n",
              "      quickchartButtonEl.disabled = true;  // To prevent multiple clicks.\n",
              "      quickchartButtonEl.classList.add('colab-df-spinner');\n",
              "      try {\n",
              "        const charts = await google.colab.kernel.invokeFunction(\n",
              "            'suggestCharts', [key], {});\n",
              "      } catch (error) {\n",
              "        console.error('Error during call to suggestCharts:', error);\n",
              "      }\n",
              "      quickchartButtonEl.classList.remove('colab-df-spinner');\n",
              "      quickchartButtonEl.classList.add('colab-df-quickchart-complete');\n",
              "    }\n",
              "    (() => {\n",
              "      let quickchartButtonEl =\n",
              "        document.querySelector('#df-f2a8e174-0d38-4ec0-824a-e93ea8a8d59b button');\n",
              "      quickchartButtonEl.style.display =\n",
              "        google.colab.kernel.accessAllowed ? 'block' : 'none';\n",
              "    })();\n",
              "  </script>\n",
              "</div>\n",
              "    </div>\n",
              "  </div>\n"
            ]
          },
          "metadata": {},
          "execution_count": 45
        }
      ]
    },
    {
      "cell_type": "code",
      "source": [
        "df['Lable'].value_counts()"
      ],
      "metadata": {
        "colab": {
          "base_uri": "https://localhost:8080/"
        },
        "id": "YYs3AqhXcOyf",
        "outputId": "ee913cfd-8850-4e8e-832b-67fb81885934"
      },
      "execution_count": 46,
      "outputs": [
        {
          "output_type": "execute_result",
          "data": {
            "text/plain": [
              "Ham     40\n",
              "spam    25\n",
              "Name: Lable, dtype: int64"
            ]
          },
          "metadata": {},
          "execution_count": 46
        }
      ]
    },
    {
      "cell_type": "code",
      "source": [
        "import matplotlib.pyplot as plt\n",
        "import seaborn as sns\n",
        "\n",
        "plt.figure(figsize=(8, 6))\n",
        "sns.countplot(data=df, x='Lable')\n",
        "plt.xlabel('Message Type')\n",
        "plt.ylabel('Count')\n",
        "plt.title('Distribution of Spam and Ham Messages')\n",
        "plt.xticks([0, 1], ['Ham', 'Spam'])\n",
        "plt.show()"
      ],
      "metadata": {
        "colab": {
          "base_uri": "https://localhost:8080/",
          "height": 564
        },
        "id": "hNLwmgZMcjMk",
        "outputId": "fc024b6e-0164-4f8f-8a1e-302c0ad72514"
      },
      "execution_count": 47,
      "outputs": [
        {
          "output_type": "display_data",
          "data": {
            "text/plain": [
              "<Figure size 800x600 with 1 Axes>"
            ],
            "image/png": "[encoded data removed]"
          },
          "metadata": {}
        }
      ]
    },
    {
      "cell_type": "code",
      "source": [
        "import nltk\n",
        "from nltk.corpus import stopwords\n",
        "\n",
        "nltk.download('stopwords')"
      ],
      "metadata": {
        "colab": {
          "base_uri": "https://localhost:8080/"
        },
        "id": "IYC6NTS4dKAB",
        "outputId": "e6fb91c1-ff81-43f1-f6f1-037a06bba194"
      },
      "execution_count": 48,
      "outputs": [
        {
          "output_type": "stream",
          "name": "stderr",
          "text": [
            "[nltk_data] Downloading package stopwords to /root/nltk_data...\n",
            "[nltk_data]   Package stopwords is already up-to-date!\n"
          ]
        },
        {
          "output_type": "execute_result",
          "data": {
            "text/plain": [
              "True"
            ]
          },
          "metadata": {},
          "execution_count": 48
        }
      ]
    },
    {
      "cell_type": "code",
      "source": [
        "import re\n",
        "\n",
        "def preprocess_text(text):\n",
        "\n",
        "    # Define a regular expression pattern to match Sinhala special characters\n",
        "    sinhala_special_chars_pattern = re.compile(r'[^\\u0D80-\\u0DFF\\s\\w\\d]+', re.UNICODE)\n",
        "    # Use re.sub() to replace matched patterns with an empty string\n",
        "    text = re.sub(sinhala_special_chars_pattern, '', text)\n",
        "    # Tokenize the text\n",
        "    words = text.split()\n",
        "\n",
        "    sinhala_stopwords = [\"සහ\", \"සමග\", \"සමඟ\", \"අහා\", \"ආහ්\", \"ආ\", \"ඕහෝ\", \"අනේ\", \"අඳෝ\", \"අපොයි\", \"අපෝ\", \"අයියෝ\", \"ආයි\", \"ඌයි\", \"චී\", \"චිහ්\", \"චික්\", \"හෝ‍\", \"දෝ\", \"දෝහෝ\", \"මෙන්\", \"සේ\", \"වැනි\", \"බඳු\", \"වන්\", \"අයුරු\", \"අයුරින්\", \"ලෙස\", \"වැඩි\", \"ශ්‍රී\", \"හා\", \"ය\", \"නිසා\", \"නිසාවෙන්\", \"බවට\", \"බව\", \"බවෙන්\", \"නම්\", \"වැඩි\", \"සිට\", \"දී\", \"මහා\", \"මහ\", \"පමණ\", \"පමණින්\", \"පමන\", \"වන\", \"විට\", \"විටින්\", \"මේ\", \"මෙලෙස\", \"මෙයින්\", \"ඇති\", \"ලෙස\", \"සිදු\", \"වශයෙන්\", \"යලි\", \"පුන\", \"ඉතින්\", \"සිට\", \"සිටන්\", \"පටන්\", \"තෙක්\", \"දක්වා\", \"ට\", \"ගේ\", \"එ\", \"ක\", \"ක්\", \"බවත්\", \"බවද\", \"මත\", \"ඇතුලු\", \"ඇතුළු\", \"මෙසේ\", \"වඩා\", \"වඩාත්ම\", \"නිති\", \"නිතිත්\", \"නිතොර\", \"නිතර\", \"ඉක්බිති\", \"දැනට\", \"එහෙන්\", \"මෙහෙන්\", \"එහේ\", \"මෙහේ\", \"ම\", \"තවත්\", \"තව \", \"සහ\", \"දක්වා\", \"ට\", \"ගේ\", \"එ\", \"ක\", \"ක්\", \"බවත්\", \"බවද\", \"මත\", \"ඇතුලු\", \"ඇතුළු\", \"මෙසේ\", \"වඩා\", \"වඩාත්ම\", \"නිති\", \"නිතිත්\", \"නිතොර\", \"නිතර\", \"ඉක්බිති\", \"දැනට\", \"එහෙන්\", \"මෙහෙන්\", \"එහේ\", \"මෙහේ\", \"ම\", \"තවත්\", \"තව\"]\n",
        "    # Remove stopwords\n",
        "    words = [word for word in words if word not in sinhala_stopwords]\n",
        "    # Join the cleaned words back into a sentence\n",
        "    cleaned_text = ' '.join(words)\n",
        "    return cleaned_text"
      ],
      "metadata": {
        "id": "c7TK4x6Qdb86"
      },
      "execution_count": 49,
      "outputs": []
    },
    {
      "cell_type": "code",
      "source": [
        "# Create a copy of the DataFrame and modify it\n",
        "df_1 = df.copy()\n",
        "# Create a copy of the 'message' column to avoid SettingWithCopyWarning\n",
        "df_1['Message'] = df_1['Message'].apply(lambda x: preprocess_text(x))"
      ],
      "metadata": {
        "id": "8vALP4cmeyEj"
      },
      "execution_count": 50,
      "outputs": []
    },
    {
      "cell_type": "code",
      "source": [
        "df_1['Lable'] = df_1['Lable'].map({'Ham': 0, 'spam': 1})"
      ],
      "metadata": {
        "id": "2ggxLPRIhQO5"
      },
      "execution_count": 51,
      "outputs": []
    },
    {
      "cell_type": "code",
      "source": [
        "# Split the data into features (X) and labels (y)\n",
        "X = df_1['Message']\n",
        "y = df_1['Lable']"
      ],
      "metadata": {
        "id": "Xdz3hkEviykG"
      },
      "execution_count": 52,
      "outputs": []
    },
    {
      "cell_type": "code",
      "source": [
        "from sklearn.model_selection import train_test_split\n",
        "# Split the data into training and testing sets\n",
        "X_train, X_test, y_train, y_test = train_test_split(X, y, test_size=0.2, random_state=42)"
      ],
      "metadata": {
        "id": "mFqcqqUSi7v5"
      },
      "execution_count": 53,
      "outputs": []
    },
    {
      "cell_type": "code",
      "source": [
        "y_train"
      ],
      "metadata": {
        "colab": {
          "base_uri": "https://localhost:8080/"
        },
        "id": "4Yut1423kLX5",
        "outputId": "38bbff28-f009-40fb-beea-2252946f4602"
      },
      "execution_count": 54,
      "outputs": [
        {
          "output_type": "execute_result",
          "data": {
            "text/plain": [
              "13    0\n",
              "34    1\n",
              "25    0\n",
              "3     1\n",
              "17    0\n",
              "40    0\n",
              "8     0\n",
              "6     0\n",
              "63    0\n",
              "4     0\n",
              "48    1\n",
              "36    0\n",
              "19    0\n",
              "55    0\n",
              "58    0\n",
              "56    0\n",
              "50    0\n",
              "31    1\n",
              "44    0\n",
              "62    1\n",
              "15    0\n",
              "27    1\n",
              "26    1\n",
              "24    1\n",
              "47    1\n",
              "11    0\n",
              "32    0\n",
              "59    0\n",
              "46    1\n",
              "37    0\n",
              "29    1\n",
              "43    1\n",
              "49    0\n",
              "1     0\n",
              "21    1\n",
              "2     0\n",
              "52    1\n",
              "39    0\n",
              "35    1\n",
              "23    1\n",
              "54    0\n",
              "10    1\n",
              "22    1\n",
              "18    0\n",
              "57    0\n",
              "38    1\n",
              "20    0\n",
              "7     0\n",
              "42    0\n",
              "14    0\n",
              "28    1\n",
              "51    0\n",
              "Name: Lable, dtype: int64"
            ]
          },
          "metadata": {},
          "execution_count": 54
        }
      ]
    },
    {
      "cell_type": "code",
      "source": [
        "X_train"
      ],
      "metadata": {
        "colab": {
          "base_uri": "https://localhost:8080/"
        },
        "id": "fPr_NozhjeQ1",
        "outputId": "b9342de9-d235-48b8-8fab-d45c25b8fa97"
      },
      "execution_count": 55,
      "outputs": [
        {
          "output_type": "execute_result",
          "data": {
            "text/plain": [
              "13            මේක පොත් set එකක් මන් library එකෙන් ගත්තෙ\n",
              "34    ඔයාට සින්ගප්පුරු යන්න ටිකට් එකක් ලැබුනොත් ඔයා ...\n",
              "25    නිකන් හිතින් අහලා බලපන් විශාරද තබ්ලා වාදය ප්රග...\n",
              "3     සො ෆා එකක් ගන්න instant pay hurry tinyoneQixLo...\n",
              "17    මීට කලින් බීපු උන් දැකලා නැද්ද හු තඩියා කොහෙද ...\n",
              "40    ඔබගේ බැංකු ගිණුම් කාඩ්පත් විස්තර සුරක්ෂිතව තබා...\n",
              "8     සිංහල දෙමළ අලුත් අවූරුද්දට SLTMobitel නොමිලේ 1...\n",
              "6                                     සිකුරාදා ඔයා එනවද\n",
              "63    2023 ඡන්ද ලේඛනයේ ඔබේ නම තිබේදැයි ග්රාම නිලධාරි...\n",
              "4     සුවිශේෂී Asia Cup පැකේජය සමඟින් ශ්රී ලංකාව සහා...\n",
              "48    ආයුබෝවන් ඔබගේ prttime resume අපගේ සමාගම විසින්...\n",
              "36                               ඔයා weekend එකේ free ද\n",
              "19                               මන් ඔයාට සල්ලි දෙන්නම්\n",
              "55                          අපි අද හවස 2ට රැස්වීමක් ගමු\n",
              "58          අද තාත්තගේ birthday එකට wish කරන්න මතක ඇතුව\n",
              "56    අපගේ සේවාවන් කෙරෙහි ඔබ දක්වන උනන්දුව අපි අගය ක...\n",
              "50    අවුරුදු 16 අඩු ළමයෙකු සේවයේ යෙදවීමත් අවුරුදු 1...\n",
              "31    ක්ෂණික ණයක් ගන්න විදිහ දැනගන්න Link httpsrbgyi...\n",
              "44    එක් දින දීමනාවක් Daraz හරහා CreditDebit Master...\n",
              "62         france යන්න ලියාපදිංචිය httpsshorturlatevyFP\n",
              "15    නිල් කටරොළු මලින් උපන් මුනින්ද්රයානන් සින්දුවේ...\n",
              "27    දෙස් විදෙස් රැකියා පහත ලින්ක් එකෙන් පිවිසෙන්න ...\n",
              "26    දෙස් විදෙස් රැකියා ලබාගන්න ලින්ක් ඔබන්න Linkww...\n",
              "24    පඩිය එනකම් no wait loan now httpstinyonelendlk...\n",
              "47    ආයුබෝවන් පහසුවෙන් දිනකට රු17500 උපයන්න online ...\n",
              "11    විස වායුවක් ඇවිල්ල තියෙන්නෙ මනුස්සයෝ මොනවද කිය...\n",
              "32                                               කොහොමද\n",
              "59                                party එකේදී meet වෙමු\n",
              "46    ඉක්මනට නයක් ලබාගන්න ව්දිහ දැනගන්න පහත ලින්ක් එ...\n",
              "37                            ඔයා free call එකක් ගන්නවද\n",
              "29    ඩයලොග් සිම් කාඩ් නොමිලේ ඩේටා පිරිනැමීම DIALOG ...\n",
              "43    එයා ගැන සැකයිනම් දැන්ම හොර අල්ලමු httpsshortur...\n",
              "49    ඔහොම යම කෝ මන් දන්නෙ මෙච්චරයි අන්තිමට මට බිරිය...\n",
              "1                           හෙට town එකට එන්න බැරි වෙයි\n",
              "21    බොරු කරලා ඉවරයි ඉන්න තැන බලන්න httpsshorturlat...\n",
              "2     හරි බං ඔක්කෝටම ද උත්තර ඕනි නැතිනං අමාරු ප්රශ්න...\n",
              "52    අලුත්ම movie එක ඊලග සතියෙ release වෙනවලු ට්රේල...\n",
              "39    ඔබගේ බැංකු ගිණුම් කාඩ්පත් විස්තර සුරක්ෂිතව තබා...\n",
              "35    ඔයාගෙ ලගම මිතුරන් සහාකාරයන් ඉන්න තැන ඔනි වෙලාව...\n",
              "23    පිටරටයි ලන්කාවයි අලුත්ම ජොබ් විස්තර දැම්ම බලන්...\n",
              "54                        අර saree එක හෙට ගන්න පුළුවන්ද\n",
              "10    ශෙනික නය ලබා ගන්න විදිය දැනගන්න ලිනක් එකන් පිව...\n",
              "22    ප්රංශ බාශාවෙන් ඉගන ගෙන ප්රංශ යමු httpsshorturl...\n",
              "18                                 මම උදේ එද්දී කියන්නද\n",
              "57                                        මම බලන් ඉන්නේ\n",
              "38    ඔයා තවම හරියන කෙනෙක් නැද්ද එහනම් හොද කෙනෙක් මෙ...\n",
              "20    බොසා අවවාදයක් එයාලා ඇහුවොත් මිසක් අහන්න එපා නැ...\n",
              "7     සිංහල දෙමළ අලුත් අවූරුද්දට SLTMobitel නොමිලේ 1...\n",
              "42                              ඒයි දවස් වල මොකද කරන්නේ\n",
              "14                        මන් ආවොත් ඔයත් එනවද event එකට\n",
              "28    තවම රැකියාවක් නැද්දපහත ලින්ක් එකෙන් රජයේපෞද්ගල...\n",
              "51    අවුරුදු 16 අඩු ළමයෙකු සේවයේ යෙදවීමත් අවුරුදු 1...\n",
              "Name: Message, dtype: object"
            ]
          },
          "metadata": {},
          "execution_count": 55
        }
      ]
    },
    {
      "cell_type": "code",
      "source": [
        "from sklearn.feature_extraction.text import TfidfVectorizer\n",
        "from sklearn.feature_extraction.text import CountVectorizer, TfidfTransformer\n",
        "\n",
        "# TF-IDF Vectorization\n",
        "vectorizer = CountVectorizer()\n",
        "X_train_counts = vectorizer.fit_transform(X_train)\n",
        "tfidf_transformer = TfidfTransformer()\n",
        "X_train_tfidf = tfidf_transformer.fit_transform(X_train_counts)"
      ],
      "metadata": {
        "id": "tEl24KVtjDJN"
      },
      "execution_count": 56,
      "outputs": []
    },
    {
      "cell_type": "code",
      "source": [
        "print(X_train_tfidf)"
      ],
      "metadata": {
        "colab": {
          "base_uri": "https://localhost:8080/"
        },
        "id": "DvoARn_tjPuu",
        "outputId": "7c6e4693-2444-47b5-ea04-6815c2f14ce8"
      },
      "execution_count": 57,
      "outputs": [
        {
          "output_type": "stream",
          "name": "stdout",
          "text": [
            "  (0, 251)\t0.3283710371064786\n",
            "  (0, 179)\t0.4858398986999532\n",
            "  (0, 141)\t0.3435388376640662\n",
            "  (0, 140)\t0.2569675222663278\n",
            "  (0, 85)\t0.4858398986999532\n",
            "  (0, 62)\t0.4858398986999532\n",
            "  (1, 260)\t0.44772977381728457\n",
            "  (1, 225)\t0.16828126833371837\n",
            "  (1, 222)\t0.2008269620681937\n",
            "  (1, 181)\t0.2008269620681937\n",
            "  (1, 177)\t0.2008269620681937\n",
            "  (1, 173)\t0.1302052475444713\n",
            "  (1, 169)\t0.18178895167357015\n",
            "  (1, 166)\t0.4016539241363874\n",
            "  (1, 165)\t0.18178895167357015\n",
            "  (1, 160)\t0.39061574263341386\n",
            "  (1, 141)\t0.2840106846108208\n",
            "  (1, 140)\t0.10622019102389234\n",
            "  (1, 60)\t0.2008269620681937\n",
            "  (1, 40)\t0.2008269620681937\n",
            "  (1, 23)\t0.2008269620681937\n",
            "  (1, 2)\t0.2008269620681937\n",
            "  (2, 286)\t0.26785621465263426\n",
            "  (2, 270)\t0.26785621465263426\n",
            "  (2, 266)\t0.26785621465263426\n",
            "  :\t:\n",
            "  (51, 313)\t0.15965518282740024\n",
            "  (51, 312)\t0.15965518282740024\n",
            "  (51, 302)\t0.14779213156193546\n",
            "  (51, 292)\t0.13107209988651503\n",
            "  (51, 291)\t0.2955842631238709\n",
            "  (51, 287)\t0.15965518282740024\n",
            "  (51, 272)\t0.15965518282740024\n",
            "  (51, 271)\t0.14779213156193546\n",
            "  (51, 259)\t0.15965518282740024\n",
            "  (51, 256)\t0.13859043412476882\n",
            "  (51, 248)\t0.3193103656548005\n",
            "  (51, 215)\t0.3193103656548005\n",
            "  (51, 206)\t0.15965518282740024\n",
            "  (51, 186)\t0.15965518282740024\n",
            "  (51, 174)\t0.2955842631238709\n",
            "  (51, 172)\t0.12471543886203104\n",
            "  (51, 170)\t0.14779213156193546\n",
            "  (51, 129)\t0.15965518282740024\n",
            "  (51, 117)\t0.27718086824953764\n",
            "  (51, 114)\t0.15965518282740024\n",
            "  (51, 110)\t0.13859043412476882\n",
            "  (51, 108)\t0.15965518282740024\n",
            "  (51, 103)\t0.3193103656548005\n",
            "  (51, 9)\t0.15965518282740024\n",
            "  (51, 7)\t0.15965518282740024\n"
          ]
        }
      ]
    },
    {
      "cell_type": "code",
      "source": [
        "y_train"
      ],
      "metadata": {
        "colab": {
          "base_uri": "https://localhost:8080/"
        },
        "id": "u6XoFpGykEUM",
        "outputId": "2165b9b7-d79c-43d6-8a42-377623c495c5"
      },
      "execution_count": 58,
      "outputs": [
        {
          "output_type": "execute_result",
          "data": {
            "text/plain": [
              "13    0\n",
              "34    1\n",
              "25    0\n",
              "3     1\n",
              "17    0\n",
              "40    0\n",
              "8     0\n",
              "6     0\n",
              "63    0\n",
              "4     0\n",
              "48    1\n",
              "36    0\n",
              "19    0\n",
              "55    0\n",
              "58    0\n",
              "56    0\n",
              "50    0\n",
              "31    1\n",
              "44    0\n",
              "62    1\n",
              "15    0\n",
              "27    1\n",
              "26    1\n",
              "24    1\n",
              "47    1\n",
              "11    0\n",
              "32    0\n",
              "59    0\n",
              "46    1\n",
              "37    0\n",
              "29    1\n",
              "43    1\n",
              "49    0\n",
              "1     0\n",
              "21    1\n",
              "2     0\n",
              "52    1\n",
              "39    0\n",
              "35    1\n",
              "23    1\n",
              "54    0\n",
              "10    1\n",
              "22    1\n",
              "18    0\n",
              "57    0\n",
              "38    1\n",
              "20    0\n",
              "7     0\n",
              "42    0\n",
              "14    0\n",
              "28    1\n",
              "51    0\n",
              "Name: Lable, dtype: int64"
            ]
          },
          "metadata": {},
          "execution_count": 58
        }
      ]
    },
    {
      "cell_type": "code",
      "source": [
        "from sklearn.naive_bayes import MultinomialNB\n",
        "\n",
        "# Multinomial Naive Bayes Model\n",
        "model = MultinomialNB()\n",
        "model.fit(X_train_tfidf, y_train)"
      ],
      "metadata": {
        "colab": {
          "base_uri": "https://localhost:8080/",
          "height": 75
        },
        "id": "e5gMjiUUjVzB",
        "outputId": "d48d14fe-7584-4bc4-90e5-7d2cd8ab1fc2"
      },
      "execution_count": 59,
      "outputs": [
        {
          "output_type": "execute_result",
          "data": {
            "text/plain": [
              "MultinomialNB()"
            ],
            "text/html": [
              "<style>#sk-container-id-2 {color: black;background-color: white;}#sk-container-id-2 pre{padding: 0;}#sk-container-id-2 div.sk-toggleable {background-color: white;}#sk-container-id-2 label.sk-toggleable__label {cursor: pointer;display: block;width: 100%;margin-bottom: 0;padding: 0.3em;box-sizing: border-box;text-align: center;}#sk-container-id-2 label.sk-toggleable__label-arrow:before {content: \"▸\";float: left;margin-right: 0.25em;color: #696969;}#sk-container-id-2 label.sk-toggleable__label-arrow:hover:before {color: black;}#sk-container-id-2 div.sk-estimator:hover label.sk-toggleable__label-arrow:before {color: black;}#sk-container-id-2 div.sk-toggleable__content {max-height: 0;max-width: 0;overflow: hidden;text-align: left;background-color: #f0f8ff;}#sk-container-id-2 div.sk-toggleable__content pre {margin: 0.2em;color: black;border-radius: 0.25em;background-color: #f0f8ff;}#sk-container-id-2 input.sk-toggleable__control:checked~div.sk-toggleable__content {max-height: 200px;max-width: 100%;overflow: auto;}#sk-container-id-2 input.sk-toggleable__control:checked~label.sk-toggleable__label-arrow:before {content: \"▾\";}#sk-container-id-2 div.sk-estimator input.sk-toggleable__control:checked~label.sk-toggleable__label {background-color: #d4ebff;}#sk-container-id-2 div.sk-label input.sk-toggleable__control:checked~label.sk-toggleable__label {background-color: #d4ebff;}#sk-container-id-2 input.sk-hidden--visually {border: 0;clip: rect(1px 1px 1px 1px);clip: rect(1px, 1px, 1px, 1px);height: 1px;margin: -1px;overflow: hidden;padding: 0;position: absolute;width: 1px;}#sk-container-id-2 div.sk-estimator {font-family: monospace;background-color: #f0f8ff;border: 1px dotted black;border-radius: 0.25em;box-sizing: border-box;margin-bottom: 0.5em;}#sk-container-id-2 div.sk-estimator:hover {background-color: #d4ebff;}#sk-container-id-2 div.sk-parallel-item::after {content: \"\";width: 100%;border-bottom: 1px solid gray;flex-grow: 1;}#sk-container-id-2 div.sk-label:hover label.sk-toggleable__label {background-color: #d4ebff;}#sk-container-id-2 div.sk-serial::before {content: \"\";position: absolute;border-left: 1px solid gray;box-sizing: border-box;top: 0;bottom: 0;left: 50%;z-index: 0;}#sk-container-id-2 div.sk-serial {display: flex;flex-direction: column;align-items: center;background-color: white;padding-right: 0.2em;padding-left: 0.2em;position: relative;}#sk-container-id-2 div.sk-item {position: relative;z-index: 1;}#sk-container-id-2 div.sk-parallel {display: flex;align-items: stretch;justify-content: center;background-color: white;position: relative;}#sk-container-id-2 div.sk-item::before, #sk-container-id-2 div.sk-parallel-item::before {content: \"\";position: absolute;border-left: 1px solid gray;box-sizing: border-box;top: 0;bottom: 0;left: 50%;z-index: -1;}#sk-container-id-2 div.sk-parallel-item {display: flex;flex-direction: column;z-index: 1;position: relative;background-color: white;}#sk-container-id-2 div.sk-parallel-item:first-child::after {align-self: flex-end;width: 50%;}#sk-container-id-2 div.sk-parallel-item:last-child::after {align-self: flex-start;width: 50%;}#sk-container-id-2 div.sk-parallel-item:only-child::after {width: 0;}#sk-container-id-2 div.sk-dashed-wrapped {border: 1px dashed gray;margin: 0 0.4em 0.5em 0.4em;box-sizing: border-box;padding-bottom: 0.4em;background-color: white;}#sk-container-id-2 div.sk-label label {font-family: monospace;font-weight: bold;display: inline-block;line-height: 1.2em;}#sk-container-id-2 div.sk-label-container {text-align: center;}#sk-container-id-2 div.sk-container {/* jupyter's `normalize.less` sets `[hidden] { display: none; }` but bootstrap.min.css set `[hidden] { display: none !important; }` so we also need the `!important` here to be able to override the default hidden behavior on the sphinx rendered scikit-learn.org. See: https://github.com/scikit-learn/scikit-learn/issues/21755 */display: inline-block !important;position: relative;}#sk-container-id-2 div.sk-text-repr-fallback {display: none;}</style><div id=\"sk-container-id-2\" class=\"sk-top-container\"><div class=\"sk-text-repr-fallback\"><pre>MultinomialNB()</pre><b>In a Jupyter environment, please rerun this cell to show the HTML representation or trust the notebook. <br />On GitHub, the HTML representation is unable to render, please try loading this page with nbviewer.org.</b></div><div class=\"sk-container\" hidden><div class=\"sk-item\"><div class=\"sk-estimator sk-toggleable\"><input class=\"sk-toggleable__control sk-hidden--visually\" id=\"sk-estimator-id-2\" type=\"checkbox\" checked><label for=\"sk-estimator-id-2\" class=\"sk-toggleable__label sk-toggleable__label-arrow\">MultinomialNB</label><div class=\"sk-toggleable__content\"><pre>MultinomialNB()</pre></div></div></div></div></div>"
            ]
          },
          "metadata": {},
          "execution_count": 59
        }
      ]
    },
    {
      "cell_type": "code",
      "source": [
        "# Preprocess the test data and make predictions\n",
        "X_test_counts = vectorizer.transform(X_test)\n",
        "X_test_tfidf = tfidf_transformer.transform(X_test_counts)\n",
        "y_pred = model.predict(X_test_tfidf)"
      ],
      "metadata": {
        "id": "KO9miLlojrBN"
      },
      "execution_count": 60,
      "outputs": []
    },
    {
      "cell_type": "code",
      "source": [
        "from sklearn.metrics import accuracy_score, classification_report, confusion_matrix\n",
        "# Evaluate the model\n",
        "accuracy = accuracy_score(y_test, y_pred)\n",
        "class_report = classification_report(y_test, y_pred)"
      ],
      "metadata": {
        "id": "i0ZUqAmokfV6"
      },
      "execution_count": 61,
      "outputs": []
    },
    {
      "cell_type": "code",
      "source": [
        "print('accuracy:')\n",
        "print(accuracy)"
      ],
      "metadata": {
        "colab": {
          "base_uri": "https://localhost:8080/"
        },
        "id": "H_XJXOf2khwg",
        "outputId": "5e08beaf-b3fe-4017-a2af-d9cee35e6921"
      },
      "execution_count": 62,
      "outputs": [
        {
          "output_type": "stream",
          "name": "stdout",
          "text": [
            "accuracy:\n",
            "0.7692307692307693\n"
          ]
        }
      ]
    },
    {
      "cell_type": "code",
      "source": [
        "print('Classification Report:')\n",
        "print(class_report)"
      ],
      "metadata": {
        "colab": {
          "base_uri": "https://localhost:8080/"
        },
        "id": "naE6eVGpkrzv",
        "outputId": "6732a402-64a4-41c5-da6b-b2298c18507b"
      },
      "execution_count": 63,
      "outputs": [
        {
          "output_type": "stream",
          "name": "stdout",
          "text": [
            "Classification Report:\n",
            "              precision    recall  f1-score   support\n",
            "\n",
            "           0       0.73      1.00      0.84         8\n",
            "           1       1.00      0.40      0.57         5\n",
            "\n",
            "    accuracy                           0.77        13\n",
            "   macro avg       0.86      0.70      0.71        13\n",
            "weighted avg       0.83      0.77      0.74        13\n",
            "\n"
          ]
        }
      ]
    },
    {
      "cell_type": "code",
      "source": [
        "import joblib\n",
        "\n",
        "# Assuming your model is named 'multinomial_model'\n",
        "joblib.dump(model, 'Spam_Sinhala_Model.pkl')\n",
        "\n",
        "joblib.dump(vectorizer, 'tfidf_vectorizer_Sinhala.pkl')"
      ],
      "metadata": {
        "colab": {
          "base_uri": "https://localhost:8080/"
        },
        "id": "Sm6SKp6VHfXC",
        "outputId": "dffdeefb-5426-482a-dfd4-8fe30c37a527"
      },
      "execution_count": 64,
      "outputs": [
        {
          "output_type": "execute_result",
          "data": {
            "text/plain": [
              "['tfidf_vectorizer_Sinhala.pkl']"
            ]
          },
          "metadata": {},
          "execution_count": 64
        }
      ]
    },
    {
      "cell_type": "code",
      "source": [
        "# Define the input text\n",
        "input_mail = [\"ඩයලොග් සිම් කාඩ් නොමිලේ ඩේටා පිරිනැමීම DIALOG විසින් සියලුම පැරණි සිම් කාඩ්පත සඳහා නොමිලේ දත්ත ලබා දෙයිමාස 6ක් පැරණි සිම් - 5GBවසර 1 සහ ඊට වැඩි - 10GB5G සිම් කාඩ් භාවිතා කරන්නන් - 20GBදැන් ඉක්මන් කර ඔබගේ DIALOG SIM කාඩ්පත මෙම පිරිනැමීම සඳහා සුදුසුකම් ලබන්නේ දැයි පරීක්ෂා කරන්නමාස 6ක සිම් එකකට👇https://bit.ly/Dialog-Old-Sim-Reward වසර 1 සහ ඊට වැඩි සිම්👇https://bit.ly/Dialog-Old-Sim-Reward _5G සිම් කාඩ් භාවිතා කරන්නා👇https://bit.ly/Dialog-Old-Sim-Reward\"]\n",
        "\n",
        "# Preprocess the input text\n",
        "input_counts = vectorizer.transform(input_mail)\n",
        "input_tfidf = tfidf_transformer.transform(input_counts)\n",
        "\n",
        "# Make a prediction\n",
        "prediction = model.predict(input_tfidf)\n",
        "\n",
        "# Interpret the prediction\n",
        "if prediction[0] == 0:\n",
        "    result = \"Ham\"\n",
        "else:\n",
        "    result = \"Spam\"\n",
        "\n",
        "# Print the result\n",
        "print(f\"Prediction: {result}\")"
      ],
      "metadata": {
        "colab": {
          "base_uri": "https://localhost:8080/"
        },
        "id": "QzeRArb9kupN",
        "outputId": "374cd783-267b-46ca-a070-a4424c26e78e"
      },
      "execution_count": 67,
      "outputs": [
        {
          "output_type": "stream",
          "name": "stdout",
          "text": [
            "Prediction: Spam\n"
          ]
        }
      ]
    }
  ]
}